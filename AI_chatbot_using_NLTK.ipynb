{
  "nbformat": 4,
  "nbformat_minor": 0,
  "metadata": {
    "colab": {
      "name": "AI chatbot using NLTK.ipynb",
      "provenance": [],
      "collapsed_sections": []
    },
    "kernelspec": {
      "name": "python3",
      "display_name": "Python 3"
    },
    "language_info": {
      "name": "python"
    }
  },
  "cells": [
    {
      "cell_type": "markdown",
      "source": [
        "# Dependencies"
      ],
      "metadata": {
        "id": "11UH0CNp5JMj"
      }
    },
    {
      "cell_type": "code",
      "execution_count": null,
      "metadata": {
        "id": "HuQNAl6_LQwr"
      },
      "outputs": [],
      "source": [
        "import nltk\n",
        "import random\n",
        "import string\n",
        "import warnings\n",
        "warnings.filterwarnings('ignore')\n",
        "import nltk\n",
        "nltk.download('all')"
      ]
    },
    {
      "cell_type": "markdown",
      "source": [
        "# Importing and Reading the data"
      ],
      "metadata": {
        "id": "jzngabzX5Mrh"
      }
    },
    {
      "cell_type": "code",
      "source": [
        "Data = open('/content/Pion_Global_About.txt', 'r', errors='ignore')\n",
        "raw_data = Data.read()\n",
        "raw_data = raw_data.lower()\n",
        "\n",
        "sent_tokens = nltk.sent_tokenize(raw_data) #converts to list of scentences\n",
        "word_tokens = nltk.word_tokenize(raw_data) #converts to list of words\n",
        "\n",
        "print(sent_tokens)\n",
        "print(word_tokens)"
      ],
      "metadata": {
        "colab": {
          "base_uri": "https://localhost:8080/"
        },
        "id": "nOxzEwZmLcAs",
        "outputId": "2325aec4-2f09-4b0d-89f0-3c6cabc7bbc3"
      },
      "execution_count": 2,
      "outputs": [
        {
          "output_type": "stream",
          "name": "stdout",
          "text": [
            "['about:\\n\\n1.pion global private limited\\npion global private limited is a techno business consulting company driven by innovative products, solutions, strategic partnerships, efficient delivery teams and aggressive market penetration.our products team focus is to provide cost-effective technical and business solutions, with security, ease of use, agility, and quality.', 'our services team focuses on technologies, business challenges, custom applications, applications development and maintenance, testing, saas products, automation and professional services.', '2.growth gamut pvt limited\\nstarted in feb 2017, our team of experts at growth gamut pvt.', 'ltd. have been synonymous with providing bespoke recruitment solutions to our esteemed clients.', 'we are focused on providing specialized recruitment solutions in multiple industry sectors.with a simplified recruitment solutions and human resource services, we reward and recognize success of our employees and full-time joiners to our customers.our focus is to provide cost effective intelligent and smart end to end platform for corporate hiring, employee career development, job identification and conduct effective trainings across industry business domains.our mission is to build integrated intelligent hiring platform with unified ranking system for corporates, candidates and training providers.', 'vision:\\nprovide efficient and controlled technical and business solutions to our customers with agility and faster time to market.', 'mission:\\ndrive innovations through next-generation digital transformation solutions and generate sustainable value for our customers.', 'values:\\nour values focus on trust, transparency, competence, discipline, customer success, and integrity above everything else.', 'products:\\n\\n1.smart hire\\naccelerate and optimize your hiring solutionsby leveraging digital technology, artificial intelligence, and a highly optimized hiring process.', 'we build intelligent hiring platform to address the challenges of small, medium, and large enterprises talent acquisitions.', 'our platform manages the business needs of experienced and fresh talents requirements, identification, interview scheduling and tracking, onboarding, and management reporting.', '2.pie\\nan intelligent cloud platform to run and manage your business with digital experience.', '3.piontechtran\\ninnovative autonomous transformation solution for automated scripts migration and conversion from one technology to another.', 'professional services:\\n\\n1.talents search\\naccelerate and optimize your talent search by leveraging digital technology & artificial intelligence.', '2.recruitments\\nidentify and provide the right talents at speed for both fte and contract requirements.', '3.managed rpo’s\\nwe provide end-to-end ownership and services for rpo.', '4.training/up skilling\\nprovide customized project or technology or business requirements-based training for freshers and experienced resources.', '5.fresher hiring\\nidentify fresh talents through campus and off-campus channels.', 'headquarters address:\\n# 48, 4th b main,classic paradise layout,begur road,bengaluru – 560068,karnataka,india.', 'tel : +919845696049,+918884922248\\nemail : info@pionglobal.com']\n",
            "['about', ':', '1.pion', 'global', 'private', 'limited', 'pion', 'global', 'private', 'limited', 'is', 'a', 'techno', 'business', 'consulting', 'company', 'driven', 'by', 'innovative', 'products', ',', 'solutions', ',', 'strategic', 'partnerships', ',', 'efficient', 'delivery', 'teams', 'and', 'aggressive', 'market', 'penetration.our', 'products', 'team', 'focus', 'is', 'to', 'provide', 'cost-effective', 'technical', 'and', 'business', 'solutions', ',', 'with', 'security', ',', 'ease', 'of', 'use', ',', 'agility', ',', 'and', 'quality', '.', 'our', 'services', 'team', 'focuses', 'on', 'technologies', ',', 'business', 'challenges', ',', 'custom', 'applications', ',', 'applications', 'development', 'and', 'maintenance', ',', 'testing', ',', 'saas', 'products', ',', 'automation', 'and', 'professional', 'services', '.', '2.growth', 'gamut', 'pvt', 'limited', 'started', 'in', 'feb', '2017', ',', 'our', 'team', 'of', 'experts', 'at', 'growth', 'gamut', 'pvt', '.', 'ltd.', 'have', 'been', 'synonymous', 'with', 'providing', 'bespoke', 'recruitment', 'solutions', 'to', 'our', 'esteemed', 'clients', '.', 'we', 'are', 'focused', 'on', 'providing', 'specialized', 'recruitment', 'solutions', 'in', 'multiple', 'industry', 'sectors.with', 'a', 'simplified', 'recruitment', 'solutions', 'and', 'human', 'resource', 'services', ',', 'we', 'reward', 'and', 'recognize', 'success', 'of', 'our', 'employees', 'and', 'full-time', 'joiners', 'to', 'our', 'customers.our', 'focus', 'is', 'to', 'provide', 'cost', 'effective', 'intelligent', 'and', 'smart', 'end', 'to', 'end', 'platform', 'for', 'corporate', 'hiring', ',', 'employee', 'career', 'development', ',', 'job', 'identification', 'and', 'conduct', 'effective', 'trainings', 'across', 'industry', 'business', 'domains.our', 'mission', 'is', 'to', 'build', 'integrated', 'intelligent', 'hiring', 'platform', 'with', 'unified', 'ranking', 'system', 'for', 'corporates', ',', 'candidates', 'and', 'training', 'providers', '.', 'vision', ':', 'provide', 'efficient', 'and', 'controlled', 'technical', 'and', 'business', 'solutions', 'to', 'our', 'customers', 'with', 'agility', 'and', 'faster', 'time', 'to', 'market', '.', 'mission', ':', 'drive', 'innovations', 'through', 'next-generation', 'digital', 'transformation', 'solutions', 'and', 'generate', 'sustainable', 'value', 'for', 'our', 'customers', '.', 'values', ':', 'our', 'values', 'focus', 'on', 'trust', ',', 'transparency', ',', 'competence', ',', 'discipline', ',', 'customer', 'success', ',', 'and', 'integrity', 'above', 'everything', 'else', '.', 'products', ':', '1.smart', 'hire', 'accelerate', 'and', 'optimize', 'your', 'hiring', 'solutionsby', 'leveraging', 'digital', 'technology', ',', 'artificial', 'intelligence', ',', 'and', 'a', 'highly', 'optimized', 'hiring', 'process', '.', 'we', 'build', 'intelligent', 'hiring', 'platform', 'to', 'address', 'the', 'challenges', 'of', 'small', ',', 'medium', ',', 'and', 'large', 'enterprises', 'talent', 'acquisitions', '.', 'our', 'platform', 'manages', 'the', 'business', 'needs', 'of', 'experienced', 'and', 'fresh', 'talents', 'requirements', ',', 'identification', ',', 'interview', 'scheduling', 'and', 'tracking', ',', 'onboarding', ',', 'and', 'management', 'reporting', '.', '2.pie', 'an', 'intelligent', 'cloud', 'platform', 'to', 'run', 'and', 'manage', 'your', 'business', 'with', 'digital', 'experience', '.', '3.piontechtran', 'innovative', 'autonomous', 'transformation', 'solution', 'for', 'automated', 'scripts', 'migration', 'and', 'conversion', 'from', 'one', 'technology', 'to', 'another', '.', 'professional', 'services', ':', '1.talents', 'search', 'accelerate', 'and', 'optimize', 'your', 'talent', 'search', 'by', 'leveraging', 'digital', 'technology', '&', 'artificial', 'intelligence', '.', '2.recruitments', 'identify', 'and', 'provide', 'the', 'right', 'talents', 'at', 'speed', 'for', 'both', 'fte', 'and', 'contract', 'requirements', '.', '3.managed', 'rpo', '’', 's', 'we', 'provide', 'end-to-end', 'ownership', 'and', 'services', 'for', 'rpo', '.', '4.training/up', 'skilling', 'provide', 'customized', 'project', 'or', 'technology', 'or', 'business', 'requirements-based', 'training', 'for', 'freshers', 'and', 'experienced', 'resources', '.', '5.fresher', 'hiring', 'identify', 'fresh', 'talents', 'through', 'campus', 'and', 'off-campus', 'channels', '.', 'headquarters', 'address', ':', '#', '48', ',', '4th', 'b', 'main', ',', 'classic', 'paradise', 'layout', ',', 'begur', 'road', ',', 'bengaluru', '–', '560068', ',', 'karnataka', ',', 'india', '.', 'tel', ':', '+919845696049', ',', '+918884922248', 'email', ':', 'info', '@', 'pionglobal.com']\n"
          ]
        }
      ]
    },
    {
      "cell_type": "markdown",
      "source": [
        "#Data-Preprocessing - Declarations\n",
        "\n",
        "Processes:\n",
        "\n",
        "1.convert text into tokens\n",
        "\n",
        "2.Lower the tokens\n",
        "\n",
        "3.remove punctuations from tokens\n",
        "\n",
        "4.finally lemmatize the tokens"
      ],
      "metadata": {
        "id": "LqqMaOrQ5P-D"
      }
    },
    {
      "cell_type": "code",
      "source": [
        "#Lemmatization\n",
        "lemmer = nltk.stem.WordNetLemmatizer()   \n",
        "\n",
        "#Lemmatization of tokens\n",
        "def LemTokens(tokens):\n",
        "    return [lemmer.lemmatize(token) for token in tokens]       \n",
        "\n",
        "#Remove punctuation from strings\n",
        "remove_punct_dict = dict((ord(punct), None) for punct in string.punctuation)    #Remove Punctuations\n",
        "\n",
        "\n",
        "#Function includes tokenization with remove punctuation and finally lemmatization.\n",
        "def LemNormalize(text):                                  \n",
        "    return LemTokens(nltk.word_tokenize(text.lower().translate(remove_punct_dict)))\n"
      ],
      "metadata": {
        "id": "bTlez84dP-vN"
      },
      "execution_count": 3,
      "outputs": []
    },
    {
      "cell_type": "markdown",
      "source": [
        "# Delaring Greetings function\n",
        "\n"
      ],
      "metadata": {
        "id": "RiqzOuMt8X9b"
      }
    },
    {
      "cell_type": "code",
      "source": [
        "#Greetings\n",
        "GREETING_INPUTS = (\"hello\", \"hi\", \"greetings\", \"sup\", \"what's up\", \"hey\",\"hi there\",\"Good Morning\",\"Howdy\")\n",
        "GREETING_RESPONSES = [\"hi\", \"hey\", \"nods\", \"hi there\", \"hello\", \"I am glad! you are talking to me\",\"hi, How can I help you?\"]\n",
        "\n",
        "def greeting(scentence):\n",
        "    \n",
        "    for word in scentence.split():\n",
        "        if word.lower() in GREETING_INPUTS:\n",
        "            return random.choice(GREETING_RESPONSES)"
      ],
      "metadata": {
        "id": "893AgVRb8PYV"
      },
      "execution_count": 4,
      "outputs": []
    },
    {
      "cell_type": "markdown",
      "source": [
        "#Response Generation\n",
        "\n",
        "Process:\n",
        "\n",
        "1.Appending user's query or response to existing sentences of data\n",
        "\n",
        "2.Lemmatize all sentences through declared component(function)\n",
        "\n",
        "3.Converting all sentence into word vetors using tfidf vectorization\n",
        "\n",
        "4.Enumerate cosine similarity between users query to existing sentences\n",
        "\n",
        "5.sort the similarity values and get highest value and its index\n"
      ],
      "metadata": {
        "id": "IX1tay1L9HFE"
      }
    },
    {
      "cell_type": "code",
      "source": [
        "from sklearn.feature_extraction.text import TfidfVectorizer\n",
        "from sklearn.metrics.pairwise import cosine_similarity\n",
        "\n",
        "def response(user_response):\n",
        "    chatbot_response = ''\n",
        "    sent_tokens.append(user_response)                                               #Step 1\n",
        "    TfidfVec = TfidfVectorizer(tokenizer=LemNormalize, stop_words=\"english\")        #Step 2\n",
        "    tfidf = TfidfVec.fit_transform(sent_tokens)                                     #Step 3\n",
        "    vals = cosine_similarity(tfidf[-1], tfidf)                                      #Step 4\n",
        "    idx = vals.argsort()[0][-2]                                                     #Step 5:get the index of nearest match-sentence   \n",
        "    flat = vals.flatten()\n",
        "    flat.sort()\n",
        "    req_tfidf = flat[-2]                                                            #Step 6:get the similarity value of highest one \n",
        "    if(req_tfidf == 0):\n",
        "        chatbot_response = chatbot_response + \"I am sorry! I don't understand you\"\n",
        "        return chatbot_response\n",
        "    \n",
        "    else:\n",
        "        chatbot_response=chatbot_response+sent_tokens[idx]\n",
        "        return chatbot_response"
      ],
      "metadata": {
        "id": "25K6MRJd9Gfd"
      },
      "execution_count": 5,
      "outputs": []
    },
    {
      "cell_type": "markdown",
      "source": [
        "#Execution"
      ],
      "metadata": {
        "id": "N8JebgE_WMKP"
      }
    },
    {
      "cell_type": "code",
      "source": [
        "flag = True\n",
        "print(\"Hello, there my name is Aneka. I will answer your queries. If you want to exit, type Bye!\")\n",
        "while(flag==True):\n",
        "  user_response = input()\n",
        "  user_response = user_response.lower()\n",
        "  if(user_response!='bye'):\n",
        "    if user_response == 'thanks' or user_response == 'thank you':\n",
        "      flag = False\n",
        "      print(\"Aneka: You're welcome!\")\n",
        "    else:\n",
        "      if(greeting(user_response)!=None):\n",
        "        print(\"Aneka:\" +greeting(user_response))                                #Greetings response from greeting unit\n",
        "      else:\n",
        "        print(\"Aneka:\", end='')\n",
        "        print(response(user_response))                                          #response from response unit\n",
        "        sent_tokens.remove(user_response)\n",
        "  else:\n",
        "    flag = False\n",
        "    print(\"Aneka: Bye! Have a great time!\" )                                    #Exit"
      ],
      "metadata": {
        "id": "drxNfOho--st"
      },
      "execution_count": null,
      "outputs": []
    }
  ]
}