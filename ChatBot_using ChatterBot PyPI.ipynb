{
  "nbformat": 4,
  "nbformat_minor": 0,
  "metadata": {
    "colab": {
      "name": "ChatBot_Mini.ipynb",
      "provenance": [],
      "collapsed_sections": []
    },
    "kernelspec": {
      "name": "python3",
      "display_name": "Python 3"
    },
    "language_info": {
      "name": "python"
    }
  },
  "cells": [
    {
      "cell_type": "code",
      "execution_count": 1,
      "metadata": {
        "colab": {
          "base_uri": "https://localhost:8080/"
        },
        "id": "9sTMyo_g8l6K",
        "outputId": "fdce8d75-c65a-4eba-a43c-da5247b85bc4"
      },
      "outputs": [
        {
          "output_type": "stream",
          "name": "stdout",
          "text": [
            "Collecting ChatterBot\n",
            "  Downloading ChatterBot-1.0.8-py2.py3-none-any.whl (63 kB)\n",
            "\u001b[K     |████████████████████████████████| 63 kB 1.6 MB/s \n",
            "\u001b[?25hCollecting sqlalchemy<1.4,>=1.3\n",
            "  Downloading SQLAlchemy-1.3.24-cp37-cp37m-manylinux2010_x86_64.whl (1.3 MB)\n",
            "\u001b[K     |████████████████████████████████| 1.3 MB 10.9 MB/s \n",
            "\u001b[?25hRequirement already satisfied: python-dateutil<2.9,>=2.8 in /usr/local/lib/python3.7/dist-packages (from ChatterBot) (2.8.2)\n",
            "Requirement already satisfied: pytz in /usr/local/lib/python3.7/dist-packages (from ChatterBot) (2018.9)\n",
            "Collecting mathparse<0.2,>=0.1\n",
            "  Downloading mathparse-0.1.2-py3-none-any.whl (7.2 kB)\n",
            "Requirement already satisfied: six>=1.5 in /usr/local/lib/python3.7/dist-packages (from python-dateutil<2.9,>=2.8->ChatterBot) (1.15.0)\n",
            "Installing collected packages: sqlalchemy, mathparse, ChatterBot\n",
            "  Attempting uninstall: sqlalchemy\n",
            "    Found existing installation: SQLAlchemy 1.4.32\n",
            "    Uninstalling SQLAlchemy-1.4.32:\n",
            "      Successfully uninstalled SQLAlchemy-1.4.32\n",
            "Successfully installed ChatterBot-1.0.8 mathparse-0.1.2 sqlalchemy-1.3.24\n"
          ]
        }
      ],
      "source": [
        "!pip install ChatterBot                                  #Install the library"
      ]
    },
    {
      "cell_type": "code",
      "source": [
        "from chatterbot.trainers import ListTrainer               #Import the trainer\n",
        "from chatterbot.trainers import ChatterBotCorpusTrainer   #### Another feature"
      ],
      "metadata": {
        "id": "L0h2-_zI9Oqx"
      },
      "execution_count": 7,
      "outputs": []
    },
    {
      "cell_type": "code",
      "source": [
        "from chatterbot import ChatBot                           #Import Bot"
      ],
      "metadata": {
        "id": "HnaX8D2_9jAZ"
      },
      "execution_count": 3,
      "outputs": []
    },
    {
      "cell_type": "code",
      "source": [
        "bot = ChatBot('Test')                                    #Assign Class"
      ],
      "metadata": {
        "id": "rN6wKACP9qLv"
      },
      "execution_count": 4,
      "outputs": []
    },
    {
      "cell_type": "code",
      "source": [
        "trainer=ListTrainer(bot)                                 #Assign training state\n"
      ],
      "metadata": {
        "id": "_Dd08LwGAM_4"
      },
      "execution_count": 10,
      "outputs": []
    },
    {
      "cell_type": "code",
      "source": [
        "conv = open('/content/chat.txt','r').readlines()         #Read the data"
      ],
      "metadata": {
        "id": "3o9ay6v593Gf"
      },
      "execution_count": 11,
      "outputs": []
    },
    {
      "cell_type": "markdown",
      "source": [
        "![image.png](data:image/png;base64,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)"
      ],
      "metadata": {
        "id": "MdXoAo3EQKqi"
      }
    },
    {
      "cell_type": "code",
      "source": [
        "\n",
        "trainer.train(conv)                                      #Train the bot with data"
      ],
      "metadata": {
        "colab": {
          "base_uri": "https://localhost:8080/"
        },
        "id": "H6uYSssf_BaX",
        "outputId": "b8cc7d7d-e70d-4ba3-c84e-da309113d448"
      },
      "execution_count": 12,
      "outputs": [
        {
          "output_type": "stream",
          "name": "stdout",
          "text": [
            "List Trainer: [####################] 100%\n"
          ]
        }
      ]
    },
    {
      "cell_type": "code",
      "source": [
        "while True:                                              #Activate the bot\n",
        "  request = input('you: ')\n",
        "  response = bot.get_response(request)\n",
        "  print('Bot: ',response)"
      ],
      "metadata": {
        "id": "xYkqmiNpBRto"
      },
      "execution_count": null,
      "outputs": []
    }
  ]
}